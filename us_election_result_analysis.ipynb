{
 "cells": [
  {
   "cell_type": "code",
   "execution_count": 1,
   "metadata": {},
   "outputs": [],
   "source": [
    "import pandas as pd"
   ]
  },
  {
   "cell_type": "code",
   "execution_count": 2,
   "metadata": {},
   "outputs": [],
   "source": [
    "df = pd.read_csv('datasets/trump_old_tweets.csv')"
   ]
  },
  {
   "cell_type": "code",
   "execution_count": 3,
   "metadata": {},
   "outputs": [
    {
     "data": {
      "text/html": [
       "<div>\n",
       "<style scoped>\n",
       "    .dataframe tbody tr th:only-of-type {\n",
       "        vertical-align: middle;\n",
       "    }\n",
       "\n",
       "    .dataframe tbody tr th {\n",
       "        vertical-align: top;\n",
       "    }\n",
       "\n",
       "    .dataframe thead th {\n",
       "        text-align: right;\n",
       "    }\n",
       "</style>\n",
       "<table border=\"1\" class=\"dataframe\">\n",
       "  <thead>\n",
       "    <tr style=\"text-align: right;\">\n",
       "      <th></th>\n",
       "      <th>date</th>\n",
       "      <th>text</th>\n",
       "    </tr>\n",
       "  </thead>\n",
       "  <tbody>\n",
       "    <tr>\n",
       "      <th>0</th>\n",
       "      <td>2020-10-14 17:12:35</td>\n",
       "      <td>RT @HerschelWalker: GEORGIA, Let's go VOTE to ...</td>\n",
       "    </tr>\n",
       "    <tr>\n",
       "      <th>1</th>\n",
       "      <td>2020-10-14 14:55:48</td>\n",
       "      <td>RT @realDonaldTrump: Republicans will be provi...</td>\n",
       "    </tr>\n",
       "    <tr>\n",
       "      <th>2</th>\n",
       "      <td>2020-10-14 14:29:31</td>\n",
       "      <td>Georgia, this is your chance to MAKE AMERICA G...</td>\n",
       "    </tr>\n",
       "    <tr>\n",
       "      <th>3</th>\n",
       "      <td>2020-10-14 14:14:04</td>\n",
       "      <td>Fight hard Republicans. They have been taking ...</td>\n",
       "    </tr>\n",
       "    <tr>\n",
       "      <th>4</th>\n",
       "      <td>2020-10-14 12:52:34</td>\n",
       "      <td>https://t.co/gsFSghkmdM</td>\n",
       "    </tr>\n",
       "    <tr>\n",
       "      <th>5</th>\n",
       "      <td>2020-10-14 05:31:59</td>\n",
       "      <td>RT @GaryCoby: YES! Watch... @GamebredFighter \\...</td>\n",
       "    </tr>\n",
       "    <tr>\n",
       "      <th>6</th>\n",
       "      <td>2020-10-14 04:08:24</td>\n",
       "      <td>Great night in Pennsylvania. Big and Enthusias...</td>\n",
       "    </tr>\n",
       "    <tr>\n",
       "      <th>7</th>\n",
       "      <td>2020-10-14 03:47:57</td>\n",
       "      <td>Vote for Trump. Save your 2nd Amendment! https...</td>\n",
       "    </tr>\n",
       "    <tr>\n",
       "      <th>8</th>\n",
       "      <td>2020-10-14 03:45:48</td>\n",
       "      <td>RT @WAVY_News: A lawsuit seeking to extend Vir...</td>\n",
       "    </tr>\n",
       "    <tr>\n",
       "      <th>9</th>\n",
       "      <td>2020-10-14 03:43:25</td>\n",
       "      <td>Virginia, VOTE for President Trump and save yo...</td>\n",
       "    </tr>\n",
       "  </tbody>\n",
       "</table>\n",
       "</div>"
      ],
      "text/plain": [
       "                  date                                               text\n",
       "0  2020-10-14 17:12:35  RT @HerschelWalker: GEORGIA, Let's go VOTE to ...\n",
       "1  2020-10-14 14:55:48  RT @realDonaldTrump: Republicans will be provi...\n",
       "2  2020-10-14 14:29:31  Georgia, this is your chance to MAKE AMERICA G...\n",
       "3  2020-10-14 14:14:04  Fight hard Republicans. They have been taking ...\n",
       "4  2020-10-14 12:52:34                            https://t.co/gsFSghkmdM\n",
       "5  2020-10-14 05:31:59  RT @GaryCoby: YES! Watch... @GamebredFighter \\...\n",
       "6  2020-10-14 04:08:24  Great night in Pennsylvania. Big and Enthusias...\n",
       "7  2020-10-14 03:47:57  Vote for Trump. Save your 2nd Amendment! https...\n",
       "8  2020-10-14 03:45:48  RT @WAVY_News: A lawsuit seeking to extend Vir...\n",
       "9  2020-10-14 03:43:25  Virginia, VOTE for President Trump and save yo..."
      ]
     },
     "execution_count": 3,
     "metadata": {},
     "output_type": "execute_result"
    }
   ],
   "source": [
    "df.head(10)"
   ]
  },
  {
   "cell_type": "code",
   "execution_count": 2,
   "metadata": {},
   "outputs": [
    {
     "data": {
      "text/html": [
       "<div>\n",
       "<style scoped>\n",
       "    .dataframe tbody tr th:only-of-type {\n",
       "        vertical-align: middle;\n",
       "    }\n",
       "\n",
       "    .dataframe tbody tr th {\n",
       "        vertical-align: top;\n",
       "    }\n",
       "\n",
       "    .dataframe thead th {\n",
       "        text-align: right;\n",
       "    }\n",
       "</style>\n",
       "<table border=\"1\" class=\"dataframe\">\n",
       "  <thead>\n",
       "    <tr style=\"text-align: right;\">\n",
       "      <th></th>\n",
       "      <th>text</th>\n",
       "      <th>location</th>\n",
       "      <th>Subject</th>\n",
       "      <th>state</th>\n",
       "    </tr>\n",
       "  </thead>\n",
       "  <tbody>\n",
       "    <tr>\n",
       "      <th>0</th>\n",
       "      <td>After the confrontation that cost Walter Wall...</td>\n",
       "      <td>New Jersey</td>\n",
       "      <td>Donald Trump</td>\n",
       "      <td>New Jersey</td>\n",
       "    </tr>\n",
       "    <tr>\n",
       "      <th>1</th>\n",
       "      <td>\"COVID-19 is still raging. Trump is still lyi...</td>\n",
       "      <td>The Wrong Address, Texas</td>\n",
       "      <td>Donald Trump</td>\n",
       "      <td>Texas</td>\n",
       "    </tr>\n",
       "    <tr>\n",
       "      <th>2</th>\n",
       "      <td>Donald Trump Jr.: \"Why aren't they talking ab...</td>\n",
       "      <td>Northborough, MA</td>\n",
       "      <td>Donald Trump</td>\n",
       "      <td>Massachusetts</td>\n",
       "    </tr>\n",
       "    <tr>\n",
       "      <th>3</th>\n",
       "      <td>Let’s not forget who created these problems. T...</td>\n",
       "      <td>New Jersey, USA</td>\n",
       "      <td>Donald Trump</td>\n",
       "      <td>New Jersey</td>\n",
       "    </tr>\n",
       "    <tr>\n",
       "      <th>4</th>\n",
       "      <td>There is no greater supporter of Donald Trump...</td>\n",
       "      <td>Twin Cities, Minnesota</td>\n",
       "      <td>Donald Trump</td>\n",
       "      <td>Minnesota</td>\n",
       "    </tr>\n",
       "    <tr>\n",
       "      <th>5</th>\n",
       "      <td>'A vote for Donald Trump is a vote against the...</td>\n",
       "      <td>Salem, MA</td>\n",
       "      <td>Donald Trump</td>\n",
       "      <td>Massachusetts</td>\n",
       "    </tr>\n",
       "    <tr>\n",
       "      <th>6</th>\n",
       "      <td>There is no greater supporter of Donald Trump...</td>\n",
       "      <td>Ohio</td>\n",
       "      <td>Donald Trump</td>\n",
       "      <td>Ohio</td>\n",
       "    </tr>\n",
       "    <tr>\n",
       "      <th>7</th>\n",
       "      <td>The same people who are outraged at AOC for s...</td>\n",
       "      <td>Twin Cities, Minnesota</td>\n",
       "      <td>Donald Trump</td>\n",
       "      <td>Minnesota</td>\n",
       "    </tr>\n",
       "    <tr>\n",
       "      <th>8</th>\n",
       "      <td>Donald Trump is on track to become the worst ...</td>\n",
       "      <td>San Diego, CA</td>\n",
       "      <td>Donald Trump</td>\n",
       "      <td>California</td>\n",
       "    </tr>\n",
       "    <tr>\n",
       "      <th>9</th>\n",
       "      <td>It is Friday, October 30, 2020. One citizen, I...</td>\n",
       "      <td>Iowa</td>\n",
       "      <td>Donald Trump</td>\n",
       "      <td>Iowa</td>\n",
       "    </tr>\n",
       "  </tbody>\n",
       "</table>\n",
       "</div>"
      ],
      "text/plain": [
       "                                                text  \\\n",
       "0   After the confrontation that cost Walter Wall...   \n",
       "1   \"COVID-19 is still raging. Trump is still lyi...   \n",
       "2   Donald Trump Jr.: \"Why aren't they talking ab...   \n",
       "3  Let’s not forget who created these problems. T...   \n",
       "4   There is no greater supporter of Donald Trump...   \n",
       "5  'A vote for Donald Trump is a vote against the...   \n",
       "6   There is no greater supporter of Donald Trump...   \n",
       "7   The same people who are outraged at AOC for s...   \n",
       "8   Donald Trump is on track to become the worst ...   \n",
       "9  It is Friday, October 30, 2020. One citizen, I...   \n",
       "\n",
       "                    location       Subject          state  \n",
       "0                 New Jersey  Donald Trump     New Jersey  \n",
       "1  The Wrong Address, Texas   Donald Trump          Texas  \n",
       "2           Northborough, MA  Donald Trump  Massachusetts  \n",
       "3            New Jersey, USA  Donald Trump     New Jersey  \n",
       "4     Twin Cities, Minnesota  Donald Trump      Minnesota  \n",
       "5                  Salem, MA  Donald Trump  Massachusetts  \n",
       "6                       Ohio  Donald Trump           Ohio  \n",
       "7     Twin Cities, Minnesota  Donald Trump      Minnesota  \n",
       "8              San Diego, CA  Donald Trump     California  \n",
       "9                      Iowa   Donald Trump           Iowa  "
      ]
     },
     "execution_count": 2,
     "metadata": {},
     "output_type": "execute_result"
    }
   ],
   "source": [
    "data = pd.read_csv('datasets/tweets_location.csv')\n",
    "\n",
    "# make a copy\n",
    "df = data.copy()\n",
    "df.head(10)"
   ]
  },
  {
   "cell_type": "code",
   "execution_count": 3,
   "metadata": {},
   "outputs": [
    {
     "name": "stderr",
     "output_type": "stream",
     "text": [
      "[nltk_data] Downloading package vader_lexicon to\n",
      "[nltk_data]     C:\\Users\\Ragib\\AppData\\Roaming\\nltk_data...\n",
      "[nltk_data]   Package vader_lexicon is already up-to-date!\n"
     ]
    },
    {
     "data": {
      "text/plain": [
       "True"
      ]
     },
     "execution_count": 3,
     "metadata": {},
     "output_type": "execute_result"
    }
   ],
   "source": [
    "import nltk\n",
    "from nltk.sentiment.vader import SentimentIntensityAnalyzer\n",
    "nltk.download('vader_lexicon')"
   ]
  },
  {
   "cell_type": "code",
   "execution_count": 4,
   "metadata": {},
   "outputs": [],
   "source": [
    "sia = SentimentIntensityAnalyzer()"
   ]
  },
  {
   "cell_type": "code",
   "execution_count": 10,
   "metadata": {},
   "outputs": [],
   "source": [
    "tweets_trump = df[df.Subject == 'Donald Trump']\n",
    "tweets_biden = df[df.Subject == 'Joe Biden']"
   ]
  },
  {
   "cell_type": "code",
   "execution_count": 11,
   "metadata": {},
   "outputs": [
    {
     "data": {
      "text/html": [
       "<div>\n",
       "<style scoped>\n",
       "    .dataframe tbody tr th:only-of-type {\n",
       "        vertical-align: middle;\n",
       "    }\n",
       "\n",
       "    .dataframe tbody tr th {\n",
       "        vertical-align: top;\n",
       "    }\n",
       "\n",
       "    .dataframe thead th {\n",
       "        text-align: right;\n",
       "    }\n",
       "</style>\n",
       "<table border=\"1\" class=\"dataframe\">\n",
       "  <thead>\n",
       "    <tr style=\"text-align: right;\">\n",
       "      <th></th>\n",
       "      <th>text</th>\n",
       "      <th>location</th>\n",
       "      <th>Subject</th>\n",
       "      <th>state</th>\n",
       "    </tr>\n",
       "  </thead>\n",
       "  <tbody>\n",
       "    <tr>\n",
       "      <th>0</th>\n",
       "      <td>After the confrontation that cost Walter Wall...</td>\n",
       "      <td>New Jersey</td>\n",
       "      <td>Donald Trump</td>\n",
       "      <td>New Jersey</td>\n",
       "    </tr>\n",
       "    <tr>\n",
       "      <th>1</th>\n",
       "      <td>\"COVID-19 is still raging. Trump is still lyi...</td>\n",
       "      <td>The Wrong Address, Texas</td>\n",
       "      <td>Donald Trump</td>\n",
       "      <td>Texas</td>\n",
       "    </tr>\n",
       "    <tr>\n",
       "      <th>2</th>\n",
       "      <td>Donald Trump Jr.: \"Why aren't they talking ab...</td>\n",
       "      <td>Northborough, MA</td>\n",
       "      <td>Donald Trump</td>\n",
       "      <td>Massachusetts</td>\n",
       "    </tr>\n",
       "    <tr>\n",
       "      <th>3</th>\n",
       "      <td>Let’s not forget who created these problems. T...</td>\n",
       "      <td>New Jersey, USA</td>\n",
       "      <td>Donald Trump</td>\n",
       "      <td>New Jersey</td>\n",
       "    </tr>\n",
       "    <tr>\n",
       "      <th>4</th>\n",
       "      <td>There is no greater supporter of Donald Trump...</td>\n",
       "      <td>Twin Cities, Minnesota</td>\n",
       "      <td>Donald Trump</td>\n",
       "      <td>Minnesota</td>\n",
       "    </tr>\n",
       "  </tbody>\n",
       "</table>\n",
       "</div>"
      ],
      "text/plain": [
       "                                                text  \\\n",
       "0   After the confrontation that cost Walter Wall...   \n",
       "1   \"COVID-19 is still raging. Trump is still lyi...   \n",
       "2   Donald Trump Jr.: \"Why aren't they talking ab...   \n",
       "3  Let’s not forget who created these problems. T...   \n",
       "4   There is no greater supporter of Donald Trump...   \n",
       "\n",
       "                    location       Subject          state  \n",
       "0                 New Jersey  Donald Trump     New Jersey  \n",
       "1  The Wrong Address, Texas   Donald Trump          Texas  \n",
       "2           Northborough, MA  Donald Trump  Massachusetts  \n",
       "3            New Jersey, USA  Donald Trump     New Jersey  \n",
       "4     Twin Cities, Minnesota  Donald Trump      Minnesota  "
      ]
     },
     "execution_count": 11,
     "metadata": {},
     "output_type": "execute_result"
    }
   ],
   "source": [
    "tweets_trump.head()"
   ]
  },
  {
   "cell_type": "code",
   "execution_count": 22,
   "metadata": {},
   "outputs": [
    {
     "data": {
      "text/plain": [
       "2928"
      ]
     },
     "execution_count": 22,
     "metadata": {},
     "output_type": "execute_result"
    }
   ],
   "source": [
    "subject_trump = tweets_trump['Subject'].count()\n",
    "subject_trump"
   ]
  },
  {
   "cell_type": "code",
   "execution_count": 23,
   "metadata": {},
   "outputs": [
    {
     "data": {
      "text/plain": [
       "2625"
      ]
     },
     "execution_count": 23,
     "metadata": {},
     "output_type": "execute_result"
    }
   ],
   "source": [
    "subject_biden = tweets_biden['Subject'].count()\n",
    "subject_biden"
   ]
  },
  {
   "cell_type": "code",
   "execution_count": 16,
   "metadata": {},
   "outputs": [],
   "source": [
    "import matplotlib.pyplot as plt\n",
    "import seaborn as sns\n",
    "%matplotlib inline\n",
    "sns.set()"
   ]
  },
  {
   "cell_type": "code",
   "execution_count": 28,
   "metadata": {},
   "outputs": [
    {
     "data": {
      "image/png": "[encoded data removed]",
      "text/plain": [
       "<Figure size 720x504 with 1 Axes>"
      ]
     },
     "metadata": {},
     "output_type": "display_data"
    }
   ],
   "source": [
    "labels = ['tweets_trump', 'tweets_biden']\n",
    "sizes  = [subject_trump, subject_biden]\n",
    "\n",
    "# Creating plot \n",
    "fig = plt.figure(figsize =(10, 7)) \n",
    "plt.pie(sizes, labels = labels,autopct='%1.1f%%',\n",
    "        shadow=True, startangle=90) \n",
    "\n",
    "plt.axis('equal')  # Equal aspect ratio ensures that pie is drawn as a circle.\n",
    "plt.title(\"Comparison of Twitter mentions of both candidates\",fontweight=\"bold\", fontsize=18);\n",
    "# show plot \n",
    "plt.show()"
   ]
  },
  {
   "cell_type": "markdown",
   "metadata": {},
   "source": [
    "2928 tweets(52.7%) was mentioned trump and 2625(47.3%) tweets was mentioned biden"
   ]
  },
  {
   "cell_type": "code",
   "execution_count": null,
   "metadata": {},
   "outputs": [],
   "source": []
  }
 ],
 "metadata": {
  "kernelspec": {
   "display_name": "Python 3",
   "language": "python",
   "name": "python3"
  },
  "language_info": {
   "codemirror_mode": {
    "name": "ipython",
    "version": 3
   },
   "file_extension": ".py",
   "mimetype": "text/x-python",
   "name": "python",
   "nbconvert_exporter": "python",
   "pygments_lexer": "ipython3",
   "version": "3.7.6"
  }
 },
 "nbformat": 4,
 "nbformat_minor": 4
}
